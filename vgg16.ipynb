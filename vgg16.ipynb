{
  "metadata": {
    "kernelspec": {
      "language": "python",
      "display_name": "Python 3",
      "name": "python3"
    },
    "language_info": {
      "pygments_lexer": "ipython3",
      "nbconvert_exporter": "python",
      "version": "3.6.4",
      "file_extension": ".py",
      "codemirror_mode": {
        "name": "ipython",
        "version": 3
      },
      "name": "python",
      "mimetype": "text/x-python"
    },
    "colab": {
      "provenance": []
    },
    "accelerator": "GPU",
    "gpuClass": "standard"
  },
  "nbformat_minor": 0,
  "nbformat": 4,
  "cells": [
    {
      "cell_type": "markdown",
      "source": [
        "# Blood Cell Subtype Classification Part 2: Transfer Learning using a finetuned VGG16 model. \n",
        "\n"
      ],
      "metadata": {
        "id": "mikSAqxFyO6Q"
      }
    },
    {
      "cell_type": "code",
      "source": [
        "import numpy as np\n",
        "import pandas as pd\n",
        "import matplotlib.pyplot as plt\n",
        "import os\n",
        "import cv2\n",
        "import seaborn as sns\n",
        "from tqdm import tqdm \n",
        "from sklearn.utils import shuffle\n",
        "from sklearn import decomposition\n",
        "from sklearn.model_selection import train_test_split\n",
        "from sklearn.metrics import accuracy_score, confusion_matrix\n",
        "import tensorflow as tf\n",
        "import keras\n",
        "from keras.applications.vgg16 import VGG16 \n",
        "from keras.preprocessing import image\n",
        "from keras.applications.vgg16 import preprocess_input\n",
        "from keras.models import Sequential, Model \n",
        "from keras.applications import DenseNet201\n",
        "from keras.applications import VGG16\n",
        "from keras.initializers import he_normal\n",
        "from keras.layers import Lambda, SeparableConv2D, BatchNormalization, Dropout, MaxPooling2D, Input, Dense, Conv2D, Activation, Flatten \n",
        "from keras.callbacks import EarlyStopping, ReduceLROnPlateau, ModelCheckpoint"
      ],
      "metadata": {
        "_uuid": "d629ff2d2480ee46fbb7e2d37f6b5fab8052498a",
        "_cell_guid": "79c7e3d0-c299-4dcb-8224-4455121ee9b0",
        "execution": {
          "iopub.status.busy": "2022-11-22T09:48:04.074614Z",
          "iopub.execute_input": "2022-11-22T09:48:04.074970Z",
          "iopub.status.idle": "2022-11-22T09:48:04.083040Z",
          "shell.execute_reply.started": "2022-11-22T09:48:04.074935Z",
          "shell.execute_reply": "2022-11-22T09:48:04.081936Z"
        },
        "trusted": true,
        "id": "u9sAARl0yO6V"
      },
      "execution_count": 3,
      "outputs": []
    },
    {
      "cell_type": "code",
      "source": [
        "!wget -nc https://lazyprogrammer.me/course_files/blood_cell_images.zip"
      ],
      "metadata": {
        "colab": {
          "base_uri": "https://localhost:8080/"
        },
        "id": "eM_FFxKayVRo",
        "outputId": "9e6efcc7-83df-4947-ff22-83067981dc7b"
      },
      "execution_count": 4,
      "outputs": [
        {
          "output_type": "stream",
          "name": "stdout",
          "text": [
            "File ‘blood_cell_images.zip’ already there; not retrieving.\n",
            "\n"
          ]
        }
      ]
    },
    {
      "cell_type": "code",
      "source": [
        "!unzip -nq blood_cell_images.zip"
      ],
      "metadata": {
        "id": "51RHeAyXyVWx"
      },
      "execution_count": 5,
      "outputs": []
    },
    {
      "cell_type": "code",
      "source": [
        "!ls"
      ],
      "metadata": {
        "colab": {
          "base_uri": "https://localhost:8080/"
        },
        "id": "7Tk777UCyVZt",
        "outputId": "aa77a7d9-7716-449a-cff6-16381749e329"
      },
      "execution_count": 4,
      "outputs": [
        {
          "output_type": "stream",
          "name": "stdout",
          "text": [
            "blood_cell_images  blood_cell_images.zip  __MACOSX  sample_data\n"
          ]
        }
      ]
    },
    {
      "cell_type": "markdown",
      "source": [
        "# Loading data"
      ],
      "metadata": {
        "id": "5pdS9hgiyO6X"
      }
    },
    {
      "cell_type": "code",
      "source": [
        "class_names = ['EOSINOPHIL', 'LYMPHOCYTE', 'MONOCYTE', 'NEUTROPHIL']\n",
        "nb_classes = len(class_names)\n",
        "image_size = (150,150)"
      ],
      "metadata": {
        "execution": {
          "iopub.status.busy": "2022-11-22T09:48:07.884846Z",
          "iopub.execute_input": "2022-11-22T09:48:07.885238Z",
          "iopub.status.idle": "2022-11-22T09:48:07.889717Z",
          "shell.execute_reply.started": "2022-11-22T09:48:07.885204Z",
          "shell.execute_reply": "2022-11-22T09:48:07.888760Z"
        },
        "trusted": true,
        "id": "Ln0vJtLdyO6Y"
      },
      "execution_count": 6,
      "outputs": []
    },
    {
      "cell_type": "code",
      "source": [
        "def load_data():\n",
        "\n",
        "    datasets = [ 'blood_cell_images/TRAIN','blood_cell_images/TEST' ]\n",
        "    images = []\n",
        "    labels = []\n",
        "\n",
        "    # iterate through training and test sets\n",
        "    for dataset in datasets:\n",
        "\n",
        "        # iterate through folders in each dataset\n",
        "        for folder in os.listdir(dataset):\n",
        "\n",
        "            if folder in ['EOSINOPHIL']: label = 0\n",
        "            elif folder in ['LYMPHOCYTE']: label = 1\n",
        "            elif folder in ['MONOCYTE']: label = 2\n",
        "            elif folder in ['NEUTROPHIL']: label = 3\n",
        "\n",
        "            # iterate through each image in folder\n",
        "            for file in tqdm(os.listdir(os.path.join(dataset, folder))):\n",
        "\n",
        "                # get pathname of each image\n",
        "                img_path = os.path.join(os.path.join(dataset, folder), file)\n",
        "\n",
        "                # Open and resize the| img\n",
        "                image = cv2.imread(img_path)\n",
        "                image = cv2.cvtColor(image, cv2.COLOR_BGR2RGB)\n",
        "                image = cv2.resize(image, image_size)\n",
        "\n",
        "                # Append the image and its corresponding label to the output\n",
        "                images.append(image)\n",
        "                labels.append(label)\n",
        "\n",
        "    images = np.array(images, dtype = 'float32')\n",
        "    labels = np.array(labels, dtype = 'int32')\n",
        "\n",
        "    return images, labels"
      ],
      "metadata": {
        "execution": {
          "iopub.status.busy": "2022-11-22T09:48:36.689573Z",
          "iopub.execute_input": "2022-11-22T09:48:36.690041Z",
          "iopub.status.idle": "2022-11-22T09:48:36.699979Z",
          "shell.execute_reply.started": "2022-11-22T09:48:36.689988Z",
          "shell.execute_reply": "2022-11-22T09:48:36.699051Z"
        },
        "trusted": true,
        "id": "0OzrNZ7OyO6Y"
      },
      "execution_count": 7,
      "outputs": []
    },
    {
      "cell_type": "code",
      "source": [
        "images, labels = load_data()"
      ],
      "metadata": {
        "execution": {
          "iopub.status.busy": "2022-11-22T09:48:41.831212Z",
          "iopub.execute_input": "2022-11-22T09:48:41.831558Z",
          "iopub.status.idle": "2022-11-22T09:49:50.734766Z",
          "shell.execute_reply.started": "2022-11-22T09:48:41.831526Z",
          "shell.execute_reply": "2022-11-22T09:49:50.733784Z"
        },
        "trusted": true,
        "colab": {
          "base_uri": "https://localhost:8080/"
        },
        "id": "Mudv4YH-yO6Z",
        "outputId": "7487371a-289a-4815-9269-40feda1e178e"
      },
      "execution_count": 9,
      "outputs": [
        {
          "output_type": "stream",
          "name": "stderr",
          "text": [
            "100%|██████████| 2478/2478 [00:04<00:00, 598.04it/s]\n",
            "100%|██████████| 2499/2499 [00:03<00:00, 674.01it/s]\n",
            "100%|██████████| 2497/2497 [00:03<00:00, 646.29it/s]\n",
            "100%|██████████| 2483/2483 [00:04<00:00, 588.14it/s]\n",
            "100%|██████████| 620/620 [00:00<00:00, 694.49it/s]\n",
            "100%|██████████| 624/624 [00:00<00:00, 688.94it/s]\n",
            "100%|██████████| 623/623 [00:00<00:00, 670.62it/s]\n",
            "100%|██████████| 620/620 [00:00<00:00, 668.54it/s]\n"
          ]
        }
      ]
    },
    {
      "cell_type": "code",
      "source": [
        "images, labels = shuffle(images, labels, random_state=10)\n",
        "\n",
        "train_images, test_images, train_labels, test_labels = train_test_split(images, labels, test_size = 0.2)\n",
        "test_images, val_images, test_labels, val_labels = train_test_split(test_images, test_labels, test_size = 0.5)"
      ],
      "metadata": {
        "execution": {
          "iopub.status.busy": "2022-11-22T09:50:02.255885Z",
          "iopub.execute_input": "2022-11-22T09:50:02.256267Z",
          "iopub.status.idle": "2022-11-22T09:50:04.477524Z",
          "shell.execute_reply.started": "2022-11-22T09:50:02.256234Z",
          "shell.execute_reply": "2022-11-22T09:50:04.476589Z"
        },
        "trusted": true,
        "id": "f_kmAR29yO6a"
      },
      "execution_count": 10,
      "outputs": []
    },
    {
      "cell_type": "markdown",
      "source": [
        "# Data Exploration"
      ],
      "metadata": {
        "id": "9ey3_QdzyO6b"
      }
    },
    {
      "cell_type": "code",
      "source": [
        "n_train = train_labels.shape[0]\n",
        "n_val = val_labels.shape[0]\n",
        "n_test = test_labels.shape[0]\n",
        "\n",
        "print(\"Number of training examples: {}\".format(n_train))\n",
        "print(\"Number of validation examples: {}\".format(n_val))\n",
        "print(\"Number of testing examples: {}\".format(n_test))\n",
        "\n",
        "print(\"Training images are of shape: {}\".format(train_images.shape))\n",
        "print(\"Training labels are of shape: {}\".format(train_labels.shape))\n",
        "print(\"Validation images are of shape: {}\".format(val_images.shape))\n",
        "print(\"Validation labels are of shape: {}\".format(val_labels.shape))\n",
        "print(\"Test images are of shape: {}\".format(test_images.shape))\n",
        "print(\"Test labels are of shape: {}\".format(test_labels.shape))"
      ],
      "metadata": {
        "execution": {
          "iopub.status.busy": "2022-11-22T09:50:08.456249Z",
          "iopub.execute_input": "2022-11-22T09:50:08.456622Z",
          "iopub.status.idle": "2022-11-22T09:50:08.467079Z",
          "shell.execute_reply.started": "2022-11-22T09:50:08.456586Z",
          "shell.execute_reply": "2022-11-22T09:50:08.465992Z"
        },
        "trusted": true,
        "colab": {
          "base_uri": "https://localhost:8080/"
        },
        "id": "ICTZv_cKyO6b",
        "outputId": "2f7d3345-20d9-4088-b744-025e62ee103e"
      },
      "execution_count": 11,
      "outputs": [
        {
          "output_type": "stream",
          "name": "stdout",
          "text": [
            "Number of training examples: 9955\n",
            "Number of validation examples: 1245\n",
            "Number of testing examples: 1244\n",
            "Training images are of shape: (9955, 150, 150, 3)\n",
            "Training labels are of shape: (9955,)\n",
            "Validation images are of shape: (1245, 150, 150, 3)\n",
            "Validation labels are of shape: (1245,)\n",
            "Test images are of shape: (1244, 150, 150, 3)\n",
            "Test labels are of shape: (1244,)\n"
          ]
        }
      ]
    },
    {
      "cell_type": "code",
      "source": [
        "_, train_counts = np.unique(train_labels, return_counts = True)\n",
        "_, val_counts = np.unique(val_labels, return_counts = True)\n",
        "_, test_counts = np.unique(test_labels, return_counts = True)\n",
        "\n",
        "pd.DataFrame({'train': train_counts, \"val\": val_counts, \"test\": test_counts}, index = class_names).plot.bar()\n",
        "\n",
        "plt.show()"
      ],
      "metadata": {
        "execution": {
          "iopub.status.busy": "2022-11-22T09:50:11.293597Z",
          "iopub.execute_input": "2022-11-22T09:50:11.293952Z",
          "iopub.status.idle": "2022-11-22T09:50:11.495132Z",
          "shell.execute_reply.started": "2022-11-22T09:50:11.293904Z",
          "shell.execute_reply": "2022-11-22T09:50:11.494042Z"
        },
        "trusted": true,
        "colab": {
          "base_uri": "https://localhost:8080/",
          "height": 320
        },
        "id": "SNQP4b5jyO6c",
        "outputId": "98588c96-6ba9-4fc8-9739-a383ebefce6d"
      },
      "execution_count": 12,
      "outputs": [
        {
          "output_type": "display_data",
          "data": {
            "text/plain": [
              "<Figure size 432x288 with 1 Axes>"
            ],
            "image/png": "[encoded data removed]"
          },
          "metadata": {
            "needs_background": "light"
          }
        }
      ]
    },
    {
      "cell_type": "code",
      "source": [
        "plt.pie(train_counts,\n",
        "        explode=(0, 0, 0, 0) , \n",
        "        labels=class_names,\n",
        "        autopct='%1.1f%%')\n",
        "plt.axis('equal')\n",
        "plt.title('Proportion of each observed category')\n",
        "plt.show()"
      ],
      "metadata": {
        "execution": {
          "iopub.status.busy": "2022-11-22T09:50:13.125838Z",
          "iopub.execute_input": "2022-11-22T09:50:13.126213Z",
          "iopub.status.idle": "2022-11-22T09:50:13.187771Z",
          "shell.execute_reply.started": "2022-11-22T09:50:13.126180Z",
          "shell.execute_reply": "2022-11-22T09:50:13.186869Z"
        },
        "trusted": true,
        "id": "prH_8Z8YyO6c"
      },
      "execution_count": null,
      "outputs": []
    },
    {
      "cell_type": "code",
      "source": [
        "train_images = train_images / 255.0 \n",
        "val_images = val_images / 255.0\n",
        "test_images = test_images / 255.0"
      ],
      "metadata": {
        "execution": {
          "iopub.status.busy": "2022-11-22T09:50:14.702743Z",
          "iopub.execute_input": "2022-11-22T09:50:14.703115Z",
          "iopub.status.idle": "2022-11-22T09:50:15.688361Z",
          "shell.execute_reply.started": "2022-11-22T09:50:14.703078Z",
          "shell.execute_reply": "2022-11-22T09:50:15.687382Z"
        },
        "trusted": true,
        "id": "O0WkTbKNyO6d"
      },
      "execution_count": null,
      "outputs": []
    },
    {
      "cell_type": "code",
      "source": [
        "def display_random_image (class_names, images, labels):\n",
        "    index = np.random.randint(images.shape[0])\n",
        "    plt.figure()\n",
        "    plt.imshow(images[index])\n",
        "    plt.xticks([])\n",
        "    plt.yticks([])\n",
        "    plt.grid(False)\n",
        "    plt.title('Image #{}: '.format(index) + class_names[labels[index]])\n",
        "    plt.show()\n",
        "    \n",
        "display_random_image (class_names, train_images, train_labels)"
      ],
      "metadata": {
        "execution": {
          "iopub.status.busy": "2022-11-22T09:50:17.253157Z",
          "iopub.execute_input": "2022-11-22T09:50:17.253498Z",
          "iopub.status.idle": "2022-11-22T09:50:17.341888Z",
          "shell.execute_reply.started": "2022-11-22T09:50:17.253467Z",
          "shell.execute_reply": "2022-11-22T09:50:17.340903Z"
        },
        "trusted": true,
        "id": "CMU7q0ObyO6d"
      },
      "execution_count": null,
      "outputs": []
    },
    {
      "cell_type": "code",
      "source": [
        "def display_examples(class_names, images, labels):\n",
        "    fig = plt.figure(figsize = (10,10))\n",
        "    fig.suptitle(\"Examples of images in the dataset\", fontsize=16)\n",
        "    for i in range(25):\n",
        "        plt.subplot(5,5,i+1)\n",
        "        plt.xticks([])\n",
        "        plt.yticks([])\n",
        "        plt.grid(False)\n",
        "        plt.imshow(images[i], cmap=plt.cm.binary)\n",
        "        plt.xlabel(class_names[labels[i]])\n",
        "    plt.show()\n",
        "    \n",
        "display_examples(class_names, train_images, train_labels)"
      ],
      "metadata": {
        "execution": {
          "iopub.status.busy": "2022-11-22T09:50:19.178549Z",
          "iopub.execute_input": "2022-11-22T09:50:19.178881Z",
          "iopub.status.idle": "2022-11-22T09:50:20.259315Z",
          "shell.execute_reply.started": "2022-11-22T09:50:19.178848Z",
          "shell.execute_reply": "2022-11-22T09:50:20.258020Z"
        },
        "trusted": true,
        "id": "iRo5Ap5pyO6e"
      },
      "execution_count": null,
      "outputs": []
    },
    {
      "cell_type": "markdown",
      "source": [
        "# Model build and training "
      ],
      "metadata": {
        "id": "zoY6Fk5kyO6e"
      }
    },
    {
      "cell_type": "code",
      "source": [
        "\n",
        "\n",
        "vgg16_model = VGG16(\n",
        "    include_top = False,\n",
        "    weights = 'imagenet', \n",
        "    input_tensor = None, \n",
        "    input_shape = (150,150,3), \n",
        "    pooling = None\n",
        ")\n",
        "\n",
        "# Option here to train on the final Conv5 block in the densenet model (\"True\") or use imagenet weights for this layer (\"False\")\n",
        "\n",
        "vgg16_model.trainable = True\n",
        "\n",
        "for layer in vgg16_model.layers:\n",
        "  if 'conv5' in layer.name:\n",
        "    layer.trainable = False\n",
        "  else:\n",
        "    layer.trainable = False\n",
        "\n",
        "# 3 fully connected layers are added, with 256, 128 and 64 units respectively\n",
        "# Dropout and Batch Normalization are performed on the fully connected layers.\n",
        "\n",
        "input = Input(shape = (150,150,3))\n",
        "layer = vgg16_model(inputs=input)\n",
        "layer = Flatten()(layer)\n",
        "layer = BatchNormalization()(layer)\n",
        "layer = Dense(units=256, activation='relu')(layer)\n",
        "layer = Dropout(0.7)(layer)\n",
        "layer = BatchNormalization()(layer)\n",
        "layer = Dense(units=128, activation='relu')(layer)\n",
        "layer = Dropout(0.5)(layer)\n",
        "layer = Dense(units=64, activation='relu')(layer)\n",
        "layer = Dropout(0.3)(layer)\n",
        "layer = Dense(units=4,activation='softmax')(layer)\n",
        "\n",
        "model2 = Model(inputs=input, outputs=layer)\n",
        "\n",
        "model2.summary()\n",
        "\n",
        "model2.compile(loss='sparse_categorical_crossentropy',\n",
        "            optimizer= 'adam',\n",
        "            metrics=['accuracy'])\n",
        "\n",
        "# Implement callbacks \n",
        "checkpoint = ModelCheckpoint(filepath='best_model.hdf5', save_best_only=True, save_weights_only=False)\n",
        "early_stop = EarlyStopping(monitor='val_loss', min_delta=0.1, patience=3, verbose = 1, mode='min', restore_best_weights = True)\n",
        "learning_rate_reduction = ReduceLROnPlateau(\n",
        "    monitor = 'val_accuracy', \n",
        "    patience = 2, \n",
        "    verbose = 1, \n",
        "    factor = 0.3, \n",
        "    min_lr = 0.000001)\n"
      ],
      "metadata": {
        "execution": {
          "iopub.status.busy": "2022-11-22T09:50:23.338949Z",
          "iopub.execute_input": "2022-11-22T09:50:23.339304Z",
          "iopub.status.idle": "2022-11-22T09:50:26.312093Z",
          "shell.execute_reply.started": "2022-11-22T09:50:23.339272Z",
          "shell.execute_reply": "2022-11-22T09:50:26.311131Z"
        },
        "trusted": true,
        "colab": {
          "base_uri": "https://localhost:8080/"
        },
        "id": "Pxi0fDADyO6e",
        "outputId": "907e0ad8-fdba-40bf-f723-19bb0358125f"
      },
      "execution_count": 13,
      "outputs": [
        {
          "output_type": "stream",
          "name": "stdout",
          "text": [
            "Model: \"model\"\n",
            "_________________________________________________________________\n",
            " Layer (type)                Output Shape              Param #   \n",
            "=================================================================\n",
            " input_2 (InputLayer)        [(None, 150, 150, 3)]     0         \n",
            "                                                                 \n",
            " vgg16 (Functional)          (None, 4, 4, 512)         14714688  \n",
            "                                                                 \n",
            " flatten (Flatten)           (None, 8192)              0         \n",
            "                                                                 \n",
            " batch_normalization (BatchN  (None, 8192)             32768     \n",
            " ormalization)                                                   \n",
            "                                                                 \n",
            " dense (Dense)               (None, 256)               2097408   \n",
            "                                                                 \n",
            " dropout (Dropout)           (None, 256)               0         \n",
            "                                                                 \n",
            " batch_normalization_1 (Batc  (None, 256)              1024      \n",
            " hNormalization)                                                 \n",
            "                                                                 \n",
            " dense_1 (Dense)             (None, 128)               32896     \n",
            "                                                                 \n",
            " dropout_1 (Dropout)         (None, 128)               0         \n",
            "                                                                 \n",
            " dense_2 (Dense)             (None, 64)                8256      \n",
            "                                                                 \n",
            " dropout_2 (Dropout)         (None, 64)                0         \n",
            "                                                                 \n",
            " dense_3 (Dense)             (None, 4)                 260       \n",
            "                                                                 \n",
            "=================================================================\n",
            "Total params: 16,887,300\n",
            "Trainable params: 2,155,716\n",
            "Non-trainable params: 14,731,584\n",
            "_________________________________________________________________\n"
          ]
        }
      ]
    },
    {
      "cell_type": "code",
      "source": [
        "# Train model \n",
        "\n",
        "history2 = model2.fit(\n",
        "    train_images, \n",
        "    train_labels, \n",
        "    batch_size = 16, \n",
        "    epochs = 25, \n",
        "    validation_data =(val_images, val_labels) , \n",
        "    callbacks=[learning_rate_reduction])"
      ],
      "metadata": {
        "execution": {
          "iopub.status.busy": "2022-11-22T09:50:30.627570Z",
          "iopub.execute_input": "2022-11-22T09:50:30.627908Z",
          "iopub.status.idle": "2022-11-22T09:55:51.487877Z",
          "shell.execute_reply.started": "2022-11-22T09:50:30.627875Z",
          "shell.execute_reply": "2022-11-22T09:55:51.486783Z"
        },
        "trusted": true,
        "colab": {
          "base_uri": "https://localhost:8080/"
        },
        "id": "TPUY7oSGyO6f",
        "outputId": "ac0ce11b-5422-44b5-c0cd-b19e7aa296b4"
      },
      "execution_count": 14,
      "outputs": [
        {
          "output_type": "stream",
          "name": "stdout",
          "text": [
            "Epoch 1/25\n",
            "623/623 [==============================] - 47s 55ms/step - loss: 1.4538 - accuracy: 0.2959 - val_loss: 1.2688 - val_accuracy: 0.4699 - lr: 0.0010\n",
            "Epoch 2/25\n",
            "623/623 [==============================] - 32s 51ms/step - loss: 1.2949 - accuracy: 0.3930 - val_loss: 1.0653 - val_accuracy: 0.5518 - lr: 0.0010\n",
            "Epoch 3/25\n",
            "623/623 [==============================] - 32s 51ms/step - loss: 1.1727 - accuracy: 0.4742 - val_loss: 0.9438 - val_accuracy: 0.6040 - lr: 0.0010\n",
            "Epoch 4/25\n",
            "623/623 [==============================] - 32s 51ms/step - loss: 1.0740 - accuracy: 0.5363 - val_loss: 0.8310 - val_accuracy: 0.6635 - lr: 0.0010\n",
            "Epoch 5/25\n",
            "623/623 [==============================] - 32s 51ms/step - loss: 0.9756 - accuracy: 0.5862 - val_loss: 0.7329 - val_accuracy: 0.6916 - lr: 0.0010\n",
            "Epoch 6/25\n",
            "623/623 [==============================] - 32s 51ms/step - loss: 0.9091 - accuracy: 0.6278 - val_loss: 0.7069 - val_accuracy: 0.7060 - lr: 0.0010\n",
            "Epoch 7/25\n",
            "623/623 [==============================] - 32s 51ms/step - loss: 0.8452 - accuracy: 0.6512 - val_loss: 0.6537 - val_accuracy: 0.7390 - lr: 0.0010\n",
            "Epoch 8/25\n",
            "623/623 [==============================] - 32s 51ms/step - loss: 0.8050 - accuracy: 0.6763 - val_loss: 0.6493 - val_accuracy: 0.7542 - lr: 0.0010\n",
            "Epoch 9/25\n",
            "623/623 [==============================] - 32s 51ms/step - loss: 0.7720 - accuracy: 0.6949 - val_loss: 0.6328 - val_accuracy: 0.7655 - lr: 0.0010\n",
            "Epoch 10/25\n",
            "623/623 [==============================] - 32s 51ms/step - loss: 0.7398 - accuracy: 0.7071 - val_loss: 0.5970 - val_accuracy: 0.7751 - lr: 0.0010\n",
            "Epoch 11/25\n",
            "623/623 [==============================] - 32s 51ms/step - loss: 0.7043 - accuracy: 0.7314 - val_loss: 0.5735 - val_accuracy: 0.7743 - lr: 0.0010\n",
            "Epoch 12/25\n",
            "623/623 [==============================] - 32s 51ms/step - loss: 0.6889 - accuracy: 0.7273 - val_loss: 0.6693 - val_accuracy: 0.7791 - lr: 0.0010\n",
            "Epoch 13/25\n",
            "623/623 [==============================] - 32s 51ms/step - loss: 0.6682 - accuracy: 0.7374 - val_loss: 0.5925 - val_accuracy: 0.7952 - lr: 0.0010\n",
            "Epoch 14/25\n",
            "623/623 [==============================] - 32s 51ms/step - loss: 0.6437 - accuracy: 0.7514 - val_loss: 0.6231 - val_accuracy: 0.7807 - lr: 0.0010\n",
            "Epoch 15/25\n",
            "622/623 [============================>.] - ETA: 0s - loss: 0.6103 - accuracy: 0.7651\n",
            "Epoch 15: ReduceLROnPlateau reducing learning rate to 0.0003000000142492354.\n",
            "623/623 [==============================] - 32s 51ms/step - loss: 0.6104 - accuracy: 0.7651 - val_loss: 0.6489 - val_accuracy: 0.7863 - lr: 0.0010\n",
            "Epoch 16/25\n",
            "623/623 [==============================] - 33s 54ms/step - loss: 0.5796 - accuracy: 0.7790 - val_loss: 0.5523 - val_accuracy: 0.7984 - lr: 3.0000e-04\n",
            "Epoch 17/25\n",
            "623/623 [==============================] - 32s 51ms/step - loss: 0.5542 - accuracy: 0.7891 - val_loss: 0.5669 - val_accuracy: 0.8080 - lr: 3.0000e-04\n",
            "Epoch 18/25\n",
            "623/623 [==============================] - 32s 51ms/step - loss: 0.5252 - accuracy: 0.7998 - val_loss: 0.5962 - val_accuracy: 0.8000 - lr: 3.0000e-04\n",
            "Epoch 19/25\n",
            "622/623 [============================>.] - ETA: 0s - loss: 0.4929 - accuracy: 0.8117\n",
            "Epoch 19: ReduceLROnPlateau reducing learning rate to 9.000000427477062e-05.\n",
            "623/623 [==============================] - 32s 51ms/step - loss: 0.4930 - accuracy: 0.8117 - val_loss: 0.6298 - val_accuracy: 0.8008 - lr: 3.0000e-04\n",
            "Epoch 20/25\n",
            "623/623 [==============================] - 32s 51ms/step - loss: 0.5028 - accuracy: 0.8133 - val_loss: 0.6610 - val_accuracy: 0.8096 - lr: 9.0000e-05\n",
            "Epoch 21/25\n",
            "623/623 [==============================] - 32s 51ms/step - loss: 0.4798 - accuracy: 0.8166 - val_loss: 0.6427 - val_accuracy: 0.8169 - lr: 9.0000e-05\n",
            "Epoch 22/25\n",
            "623/623 [==============================] - 32s 51ms/step - loss: 0.4750 - accuracy: 0.8193 - val_loss: 0.6295 - val_accuracy: 0.8120 - lr: 9.0000e-05\n",
            "Epoch 23/25\n",
            "622/623 [============================>.] - ETA: 0s - loss: 0.4748 - accuracy: 0.8212\n",
            "Epoch 23: ReduceLROnPlateau reducing learning rate to 2.700000040931627e-05.\n",
            "623/623 [==============================] - 32s 51ms/step - loss: 0.4747 - accuracy: 0.8213 - val_loss: 0.6196 - val_accuracy: 0.8129 - lr: 9.0000e-05\n",
            "Epoch 24/25\n",
            "623/623 [==============================] - 32s 51ms/step - loss: 0.4707 - accuracy: 0.8210 - val_loss: 0.6412 - val_accuracy: 0.8080 - lr: 2.7000e-05\n",
            "Epoch 25/25\n",
            "623/623 [==============================] - ETA: 0s - loss: 0.4697 - accuracy: 0.8231\n",
            "Epoch 25: ReduceLROnPlateau reducing learning rate to 8.100000013655517e-06.\n",
            "623/623 [==============================] - 32s 51ms/step - loss: 0.4697 - accuracy: 0.8231 - val_loss: 0.6407 - val_accuracy: 0.8137 - lr: 2.7000e-05\n"
          ]
        }
      ]
    },
    {
      "cell_type": "markdown",
      "source": [
        "# Model Evaluation"
      ],
      "metadata": {
        "id": "I0YJ1-YeyO6f"
      }
    },
    {
      "cell_type": "code",
      "source": [
        "# Create Accuracy and Loss chart function\n",
        "\n",
        "def plot_accuracy_loss_chart(history):\n",
        "    epochs = [i for i in range(25)]\n",
        "    fig , ax = plt.subplots(1,2)\n",
        "    train_acc = history.history['accuracy']\n",
        "    train_loss = history.history['loss']\n",
        "    val_acc = history.history['val_accuracy']\n",
        "    val_loss = history.history['val_loss']\n",
        "    fig.set_size_inches(20,10)\n",
        "    ax[0].plot(epochs , train_acc , 'go-' , label = 'Training Accuracy')\n",
        "    ax[0].plot(epochs , val_acc , 'ro-' , label = 'Validation Accuracy')\n",
        "    ax[0].set_title('Training & Validation Accuracy')\n",
        "    ax[0].legend()\n",
        "    ax[0].set_xlabel(\"Epochs\")\n",
        "    ax[0].set_ylabel(\"Accuracy\")\n",
        "\n",
        "    ax[1].plot(epochs , train_loss , 'g-o' , label = 'Training Loss')\n",
        "    ax[1].plot(epochs , val_loss , 'r-o' , label = 'Validation Loss')\n",
        "    ax[1].set_title('Training & Validation Loss')\n",
        "    ax[1].legend()\n",
        "    ax[1].set_xlabel(\"Epochs\")\n",
        "    ax[1].set_ylabel(\"Training & Validation Loss\")\n",
        "    plt.show()"
      ],
      "metadata": {
        "execution": {
          "iopub.status.busy": "2022-11-22T09:56:06.995325Z",
          "iopub.execute_input": "2022-11-22T09:56:06.995712Z",
          "iopub.status.idle": "2022-11-22T09:56:07.005002Z",
          "shell.execute_reply.started": "2022-11-22T09:56:06.995675Z",
          "shell.execute_reply": "2022-11-22T09:56:07.004042Z"
        },
        "trusted": true,
        "id": "_XikMYaMyO6f"
      },
      "execution_count": 15,
      "outputs": []
    },
    {
      "cell_type": "code",
      "source": [
        "# Accuracy and Loss charts for Model 2\n",
        "\n",
        "plot_accuracy_loss_chart(history2)"
      ],
      "metadata": {
        "execution": {
          "iopub.status.busy": "2022-11-22T09:56:11.160167Z",
          "iopub.execute_input": "2022-11-22T09:56:11.160517Z",
          "iopub.status.idle": "2022-11-22T09:56:11.463289Z",
          "shell.execute_reply.started": "2022-11-22T09:56:11.160482Z",
          "shell.execute_reply": "2022-11-22T09:56:11.462187Z"
        },
        "trusted": true,
        "colab": {
          "base_uri": "https://localhost:8080/",
          "height": 529
        },
        "id": "blf5y92syO6g",
        "outputId": "455b0706-79a1-40c7-94e2-421024c58217"
      },
      "execution_count": 16,
      "outputs": [
        {
          "output_type": "display_data",
          "data": {
            "text/plain": [
              "<Figure size 1440x720 with 2 Axes>"
            ],
            "image/png": "[encoded data removed]"
          },
          "metadata": {
            "needs_background": "light"
          }
        }
      ]
    },
    {
      "cell_type": "code",
      "source": [
        "# Save model \n",
        "\n",
        "model2.save(\"vgg16.h5\")"
      ],
      "metadata": {
        "execution": {
          "iopub.status.busy": "2022-11-22T09:56:15.526796Z",
          "iopub.execute_input": "2022-11-22T09:56:15.527175Z",
          "iopub.status.idle": "2022-11-22T09:56:15.782293Z",
          "shell.execute_reply.started": "2022-11-22T09:56:15.527140Z",
          "shell.execute_reply": "2022-11-22T09:56:15.781280Z"
        },
        "trusted": true,
        "id": "MHf3JasjyO6g"
      },
      "execution_count": 18,
      "outputs": []
    },
    {
      "cell_type": "code",
      "source": [
        "# Evaluating the model on the test data\n",
        "\n",
        "results = model2.evaluate(test_images, test_labels)\n",
        "\n",
        "print(\"Loss of the model is - \", results[0])\n",
        "print(\"Accuracy of the model is - \", results[1]*100, \"%\")"
      ],
      "metadata": {
        "execution": {
          "iopub.status.busy": "2022-11-22T09:56:17.241371Z",
          "iopub.execute_input": "2022-11-22T09:56:17.241709Z",
          "iopub.status.idle": "2022-11-22T09:56:19.313448Z",
          "shell.execute_reply.started": "2022-11-22T09:56:17.241676Z",
          "shell.execute_reply": "2022-11-22T09:56:19.312611Z"
        },
        "trusted": true,
        "colab": {
          "base_uri": "https://localhost:8080/"
        },
        "id": "sLcONsQoyO6g",
        "outputId": "e804a6e0-cb01-43a7-dc25-294c8424a400"
      },
      "execution_count": 17,
      "outputs": [
        {
          "output_type": "stream",
          "name": "stdout",
          "text": [
            "39/39 [==============================] - 7s 126ms/step - loss: 0.5909 - accuracy: 0.8191\n",
            "Loss of the model is -  0.5908626914024353\n",
            "Accuracy of the model is -  81.9131851196289 %\n"
          ]
        }
      ]
    },
    {
      "cell_type": "code",
      "source": [
        "# Create predictions for test images\n",
        "\n",
        "predictions2 = model2.predict(test_images)\n",
        "predictions2 = np.argmax(predictions2,axis=1)\n",
        "predictions2[:15]"
      ],
      "metadata": {
        "execution": {
          "iopub.status.busy": "2022-11-22T09:56:38.883254Z",
          "iopub.execute_input": "2022-11-22T09:56:38.883705Z",
          "iopub.status.idle": "2022-11-22T09:56:41.143898Z",
          "shell.execute_reply.started": "2022-11-22T09:56:38.883659Z",
          "shell.execute_reply": "2022-11-22T09:56:41.142906Z"
        },
        "trusted": true,
        "id": "mg-utRtqyO6h"
      },
      "execution_count": null,
      "outputs": []
    },
    {
      "cell_type": "code",
      "source": [
        "from sklearn.metrics import classification_report\n",
        "\n",
        "print(classification_report(\n",
        "    test_labels, \n",
        "    predictions2, \n",
        "    target_names = ['EOSINOPHIL (Class 0)', 'LYMPHOCYTE (Class 1)', 'MONOCYTE (Class 2)', 'NEUTROPHIL (Class 3)']))"
      ],
      "metadata": {
        "execution": {
          "iopub.status.busy": "2022-11-22T09:57:18.152639Z",
          "iopub.execute_input": "2022-11-22T09:57:18.153019Z",
          "iopub.status.idle": "2022-11-22T09:57:18.167822Z",
          "shell.execute_reply.started": "2022-11-22T09:57:18.152982Z",
          "shell.execute_reply": "2022-11-22T09:57:18.167017Z"
        },
        "trusted": true,
        "id": "pk-zfnkxyO6h"
      },
      "execution_count": null,
      "outputs": []
    },
    {
      "cell_type": "code",
      "source": [
        "# Confusion matrix plot function and execute \n",
        "\n",
        "def plot_confusion_matrix (cm):\n",
        "    plt.figure(figsize = (10,10))\n",
        "    sns.heatmap(\n",
        "        cm, \n",
        "        cmap = 'Blues', \n",
        "        linecolor = 'black', \n",
        "        linewidth = 1, \n",
        "        annot = True, \n",
        "        fmt = '', \n",
        "        xticklabels = class_names, \n",
        "        yticklabels = class_names)\n",
        "    \n"
      ],
      "metadata": {
        "execution": {
          "iopub.status.busy": "2022-11-22T09:57:22.443538Z",
          "iopub.execute_input": "2022-11-22T09:57:22.443986Z",
          "iopub.status.idle": "2022-11-22T09:57:22.449833Z",
          "shell.execute_reply.started": "2022-11-22T09:57:22.443913Z",
          "shell.execute_reply": "2022-11-22T09:57:22.448943Z"
        },
        "trusted": true,
        "id": "6DPlD8ssyO6h"
      },
      "execution_count": null,
      "outputs": []
    },
    {
      "cell_type": "code",
      "source": [
        "# Plot confusion matrix for Model 2\n",
        "\n",
        "cm2 = confusion_matrix(test_labels, predictions2)\n",
        "cm2 = pd.DataFrame(cm2, index = ['0', '1', '2', '3'], columns = ['0', '1', '2', '3'])\n",
        "plot_confusion_matrix(cm2)"
      ],
      "metadata": {
        "execution": {
          "iopub.status.busy": "2022-11-22T09:57:24.578381Z",
          "iopub.execute_input": "2022-11-22T09:57:24.578740Z",
          "iopub.status.idle": "2022-11-22T09:57:24.805350Z",
          "shell.execute_reply.started": "2022-11-22T09:57:24.578707Z",
          "shell.execute_reply": "2022-11-22T09:57:24.804033Z"
        },
        "trusted": true,
        "id": "On40GyfnyO6h"
      },
      "execution_count": null,
      "outputs": []
    }
  ]
}